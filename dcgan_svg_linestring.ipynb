{
  "cells": [
    {
      "cell_type": "markdown",
      "metadata": {
        "id": "view-in-github",
        "colab_type": "text"
      },
      "source": [
        "<a href=\"https://colab.research.google.com/github/JacekPardyak/inkscape.py.data/blob/master/dcgan_svg_linestring.ipynb\" target=\"_parent\"><img src=\"https://colab.research.google.com/assets/colab-badge.svg\" alt=\"Open In Colab\"/></a>"
      ]
    },
    {
      "cell_type": "markdown",
      "metadata": {
        "id": "_jQ1tEQCxwRx"
      },
      "source": [
        "##### Copyright 2019 The TensorFlow Authors."
      ]
    },
    {
      "cell_type": "code",
      "execution_count": 69,
      "metadata": {
        "cellView": "form",
        "id": "V_sgB_5dx1f1"
      },
      "outputs": [],
      "source": [
        "#@title Licensed under the Apache License, Version 2.0 (the \"License\");\n",
        "# you may not use this file except in compliance with the License.\n",
        "# You may obtain a copy of the License at\n",
        "#\n",
        "# https://www.apache.org/licenses/LICENSE-2.0\n",
        "#\n",
        "# Unless required by applicable law or agreed to in writing, software\n",
        "# distributed under the License is distributed on an \"AS IS\" BASIS,\n",
        "# WITHOUT WARRANTIES OR CONDITIONS OF ANY KIND, either express or implied.\n",
        "# See the License for the specific language governing permissions and\n",
        "# limitations under the License."
      ]
    },
    {
      "cell_type": "markdown",
      "metadata": {
        "id": "rF2x3qooyBTI"
      },
      "source": [
        "# Deep Convolutional Generative Adversarial Network"
      ]
    },
    {
      "cell_type": "markdown",
      "metadata": {
        "id": "0TD5ZrvEMbhZ"
      },
      "source": [
        "<table class=\"tfo-notebook-buttons\" align=\"left\">\n",
        "  <td>\n",
        "    <a target=\"_blank\" href=\"https://www.tensorflow.org/tutorials/generative/dcgan\">\n",
        "    <img src=\"https://www.tensorflow.org/images/tf_logo_32px.png\" />\n",
        "    View on TensorFlow.org</a>\n",
        "  </td>\n",
        "  <td>\n",
        "    <a target=\"_blank\" href=\"https://colab.research.google.com/github/tensorflow/docs/blob/master/site/en/tutorials/generative/dcgan.ipynb\">\n",
        "    <img src=\"https://www.tensorflow.org/images/colab_logo_32px.png\" />\n",
        "    Run in Google Colab</a>\n",
        "  </td>\n",
        "  <td>\n",
        "    <a target=\"_blank\" href=\"https://github.com/tensorflow/docs/blob/master/site/en/tutorials/generative/dcgan.ipynb\">\n",
        "    <img src=\"https://www.tensorflow.org/images/GitHub-Mark-32px.png\" />\n",
        "    View source on GitHub</a>\n",
        "  </td>\n",
        "  <td>\n",
        "    <a href=\"https://storage.googleapis.com/tensorflow_docs/docs/site/en/tutorials/generative/dcgan.ipynb\"><img src=\"https://www.tensorflow.org/images/download_logo_32px.png\" />Download notebook</a>\n",
        "  </td>\n",
        "</table>"
      ]
    },
    {
      "cell_type": "markdown",
      "metadata": {
        "id": "ITZuApL56Mny"
      },
      "source": [
        "This tutorial demonstrates how to generate images of handwritten digits using a [Deep Convolutional Generative Adversarial Network](https://arxiv.org/pdf/1511.06434.pdf) (DCGAN). The code is written using the [Keras Sequential API](https://www.tensorflow.org/guide/keras) with a `tf.GradientTape` training loop."
      ]
    },
    {
      "cell_type": "markdown",
      "metadata": {
        "id": "2MbKJY38Puy9"
      },
      "source": [
        "## What are GANs?\n",
        "[Generative Adversarial Networks](https://arxiv.org/abs/1406.2661) (GANs) are one of the most interesting ideas in computer science today. Two models are trained simultaneously by an adversarial process. A *generator* (\"the artist\") learns to create images that look real, while a *discriminator* (\"the art critic\") learns to tell real images apart from fakes.\n",
        "\n",
        "![A diagram of a generator and discriminator](https://github.com/tensorflow/docs/blob/master/site/en/tutorials/generative/images/gan1.png?raw=1)\n",
        "\n",
        "During training, the *generator* progressively becomes better at creating images that look real, while the *discriminator* becomes better at telling them apart. The process reaches equilibrium when the *discriminator* can no longer distinguish real images from fakes.\n",
        "\n",
        "![A second diagram of a generator and discriminator](https://github.com/tensorflow/docs/blob/master/site/en/tutorials/generative/images/gan2.png?raw=1)\n",
        "\n",
        "This notebook demonstrates this process on the MNIST dataset. The following animation shows a series of images produced by the *generator* as it was trained for 50 epochs. The images begin as random noise, and increasingly resemble hand written digits over time.\n",
        "\n",
        "![sample output](https://tensorflow.org/images/gan/dcgan.gif)\n",
        "\n",
        "To learn more about GANs, see MIT's [Intro to Deep Learning](http://introtodeeplearning.com/) course."
      ]
    },
    {
      "cell_type": "markdown",
      "metadata": {
        "id": "e1_Y75QXJS6h"
      },
      "source": [
        "### Setup"
      ]
    },
    {
      "cell_type": "code",
      "execution_count": 1,
      "metadata": {
        "id": "WZKbyU2-AiY-"
      },
      "outputs": [],
      "source": [
        "import tensorflow as tf"
      ]
    },
    {
      "cell_type": "code",
      "execution_count": 2,
      "metadata": {
        "colab": {
          "base_uri": "https://localhost:8080/",
          "height": 35
        },
        "id": "wx-zNbLqB4K8",
        "outputId": "d4d60216-4c67-435e-b066-eed292031185"
      },
      "outputs": [
        {
          "output_type": "execute_result",
          "data": {
            "text/plain": [
              "'2.13.0'"
            ],
            "application/vnd.google.colaboratory.intrinsic+json": {
              "type": "string"
            }
          },
          "metadata": {},
          "execution_count": 2
        }
      ],
      "source": [
        "tf.__version__"
      ]
    },
    {
      "cell_type": "code",
      "execution_count": 3,
      "metadata": {
        "colab": {
          "base_uri": "https://localhost:8080/"
        },
        "id": "YzTlj4YdCip_",
        "outputId": "bf131afd-f41b-4532-b541-bd40335fe250"
      },
      "outputs": [
        {
          "output_type": "stream",
          "name": "stdout",
          "text": [
            "Requirement already satisfied: svgpathtools in /usr/local/lib/python3.10/dist-packages (1.6.1)\n",
            "Requirement already satisfied: numpy in /usr/local/lib/python3.10/dist-packages (from svgpathtools) (1.23.5)\n",
            "Requirement already satisfied: svgwrite in /usr/local/lib/python3.10/dist-packages (from svgpathtools) (1.4.3)\n",
            "Requirement already satisfied: scipy in /usr/local/lib/python3.10/dist-packages (from svgpathtools) (1.11.3)\n"
          ]
        }
      ],
      "source": [
        "!pip install svgpathtools"
      ]
    },
    {
      "cell_type": "code",
      "execution_count": 4,
      "metadata": {
        "id": "YfIk2es3hJEd"
      },
      "outputs": [],
      "source": [
        "import os\n",
        "from tensorflow.keras import layers\n",
        "import time\n",
        "\n",
        "from IPython import display"
      ]
    },
    {
      "cell_type": "markdown",
      "metadata": {
        "id": "iYn4MdZnKCey"
      },
      "source": [
        "### Load and prepare the dataset\n",
        "\n",
        "You will use the MNIST dataset to train the generator and the discriminator. The generator will generate handwritten digits resembling the MNIST data."
      ]
    },
    {
      "cell_type": "code",
      "execution_count": 6,
      "metadata": {
        "colab": {
          "base_uri": "https://localhost:8080/"
        },
        "id": "ZIDxv9UKqSCm",
        "outputId": "3216668c-81ce-470d-d322-d647ddf3c930"
      },
      "outputs": [
        {
          "output_type": "stream",
          "name": "stdout",
          "text": [
            "processing class: 7\n",
            "processing class: 1\n",
            "processing class: 9\n",
            "processing class: 2\n",
            "processing class: 4\n",
            "processing class: 5\n",
            "processing class: 3\n",
            "processing class: 6\n",
            "processing class: 0\n",
            "processing class: 8\n"
          ]
        }
      ],
      "source": [
        "import os\n",
        "import glob\n",
        "import numpy as np\n",
        "from svgpathtools import wsvg, disvg, svg2paths, concatpaths, Line, Path, CubicBezier\n",
        "\n",
        "DATA_DIR = tf.keras.utils.get_file(\n",
        "    \"mnist.svg.zip\",\n",
        "    \"https://github.com/JacekPardyak/inkscape.py.data/raw/master/mnist.svg.zip\",\n",
        "    extract=True,\n",
        ")\n",
        "DATA_DIR = os.path.join(os.path.dirname(DATA_DIR), \"mnist.svg\")\n",
        "\n",
        "def point_encoder(file, num):\n",
        "  paths, attributes = svg2paths(file)\n",
        "  paths = concatpaths(paths)\n",
        "  length = paths.length()\n",
        "  paths = paths.continuous_subpaths()\n",
        "  l = [path.length()/length for path in paths]\n",
        "  targets = [num*v for v in l]\n",
        "  nums = [ int(v) for v in targets]\n",
        "  while sum(nums) < num:\n",
        "    residuals = [ t - v for t,v in zip(targets, nums) ]\n",
        "    index = residuals.index( max(residuals) )\n",
        "    nums[index] += 1\n",
        "  output = np.empty((0,4), int)\n",
        "  index = 0\n",
        "  for path in paths:\n",
        "    points = np.array([path.point(pos = x) for x in np.linspace(0, 1, num=nums[index], endpoint=False)])\n",
        "    tmp = np.column_stack((points.real, points.imag))\n",
        "    tmp = np.column_stack((tmp, np.roll(tmp, -1, axis=0)))\n",
        "    output = np.row_stack((output, tmp))\n",
        "    index = index + 1\n",
        "  return output\n",
        "\n",
        "def point_decoder(tens):\n",
        "  path = Path()\n",
        "  for i in range(tens.shape[0] ):\n",
        "    row = Line(complex(tens[i,0], tens[i,1]), complex(tens[i,2], tens[i,3]))\n",
        "    path.append(row)\n",
        "  return path\n",
        "\n",
        "def parse_dataset(num_points):\n",
        "  train_points = []\n",
        "  train_labels = []\n",
        "  test_points = []\n",
        "  test_labels = []\n",
        "  class_map = {}\n",
        "  folders = glob.glob(os.path.join(DATA_DIR, \"[!README]*\"))\n",
        "  folders\n",
        "  for i, folder in enumerate(folders):\n",
        "        print(\"processing class: {}\".format(os.path.basename(folder)))\n",
        "#        # store folder name with ID so we can retrieve later\n",
        "        class_map[i] = folder.split(\"/\")[-1]\n",
        "        # gather all files\n",
        "        train_files = glob.glob(os.path.join(folder, \"train/*\"))\n",
        "        test_files = glob.glob(os.path.join(folder, \"test/*\"))\n",
        "        for f in train_files:\n",
        "            train_points.append(point_encoder(file = f, num = num_points))\n",
        "            train_labels.append(i)\n",
        "\n",
        "        for f in test_files:\n",
        "            test_points.append(point_encoder(file = f, num = num_points))\n",
        "            test_labels.append(i)\n",
        "  return (\n",
        "        np.array(train_points),\n",
        "        np.array(test_points),\n",
        "        np.array(train_labels),\n",
        "        np.array(test_labels),\n",
        "        class_map,\n",
        "    )\n",
        "NUM_CURVES = 32 # 31 is max in data\n",
        "\n",
        "train_points, test_points, train_labels, test_labels, CLASS_MAP = parse_dataset(\n",
        "    NUM_CURVES\n",
        ")\n"
      ]
    },
    {
      "cell_type": "code",
      "execution_count": 7,
      "metadata": {
        "colab": {
          "base_uri": "https://localhost:8080/",
          "height": 59
        },
        "id": "GURY_GeyYCi9",
        "outputId": "4b5fb5a9-23f1-4cc7-d50e-2fa7f619d968"
      },
      "outputs": [
        {
          "output_type": "display_data",
          "data": {
            "text/plain": [
              "<IPython.core.display.SVG object>"
            ],
            "image/svg+xml": "<svg xmlns=\"http://www.w3.org/2000/svg\" version=\"1.0\" width=\"28.000000pt\" height=\"28.000000pt\" viewBox=\"0 0 28.000000 28.000000\" preserveAspectRatio=\"xMidYMid meet\">\n<metadata>\nCreated by potrace 1.16, written by Peter Selinger 2001-2019\n</metadata>\n<g transform=\"translate(0.000000,28.000000) scale(0.100000,-0.100000)\" fill=\"#000000\" stroke=\"none\">\n<path d=\"M110 211 c-45 -8 -49 -31 -10 -64 30 -25 39 -60 20 -72 -15 -9 -12 -45 4 -51 8 -3 24 0 36 6 18 10 21 18 17 48 -3 30 1 42 22 65 l26 29 -28 24 c-15 13 -33 23 -40 23 -7 -1 -28 -4 -47 -8z m63 -56 c-16 -20 -21 -22 -37 -11 -33 21 -28 32 14 33 l40 2 -17 -24z m-14 -91 c-14 -18 -24 -11 -15 11 3 9 11 13 16 10 8 -5 7 -11 -1 -21z\"/>\n</g>\n</svg>"
          },
          "metadata": {}
        }
      ],
      "source": [
        "from IPython.display import SVG, display\n",
        "file = os.path.join(DATA_DIR, \"0/test/0_60003.svg\")\n",
        "#file = os.path.join(DATA_DIR, \"1/test/1_60002.svg\")\n",
        "file = os.path.join(DATA_DIR, \"8/test/8_60233.svg\")\n",
        "display(SVG(filename = file))"
      ]
    },
    {
      "cell_type": "code",
      "execution_count": 8,
      "metadata": {
        "colab": {
          "base_uri": "https://localhost:8080/"
        },
        "id": "mq3vH5OaSfY3",
        "outputId": "db527bd3-c288-452e-e1ff-4090a9506bf3"
      },
      "outputs": [
        {
          "output_type": "execute_result",
          "data": {
            "text/plain": [
              "array([[110.        , 211.        ,  82.4894019 , 201.29161049],\n",
              "       [ 82.4894019 , 201.29161049,  73.2814086 , 185.57144719],\n",
              "       [ 73.2814086 , 185.57144719,  82.61479753, 164.43645363],\n",
              "       [ 82.61479753, 164.43645363, 107.98908083, 139.61853828],\n",
              "       [107.98908083, 139.61853828, 125.56211536, 114.10424919],\n",
              "       [125.56211536, 114.10424919, 129.63810487,  90.45008769],\n",
              "       [129.63810487,  90.45008769, 118.91995949,  74.28351262],\n",
              "       [118.91995949,  74.28351262, 110.25490441,  50.46213949],\n",
              "       [110.25490441,  50.46213949, 120.05587849,  26.26240661],\n",
              "       [120.05587849,  26.26240661, 142.93458239,  24.09391196],\n",
              "       [142.93458239,  24.09391196, 168.16445644,  35.23332147],\n",
              "       [168.16445644,  35.23332147, 178.25460314,  53.28547098],\n",
              "       [178.25460314,  53.28547098, 176.37559495,  85.55113931],\n",
              "       [176.37559495,  85.55113931, 178.16976244, 110.4128317 ],\n",
              "       [178.16976244, 110.4128317 , 189.19013015, 131.39595142],\n",
              "       [189.19013015, 131.39595142, 207.78955795, 152.80373772],\n",
              "       [207.78955795, 152.80373772, 224.70626499, 172.25177286],\n",
              "       [224.70626499, 172.25177286, 204.83760778, 189.28205047],\n",
              "       [204.83760778, 189.28205047, 181.23070384, 207.93074697],\n",
              "       [181.23070384, 207.93074697, 159.40791057, 218.70872132],\n",
              "       [159.40791057, 218.70872132, 140.44347732, 216.51667242],\n",
              "       [140.44347732, 216.51667242, 110.        , 211.        ],\n",
              "       [173.        , 155.        , 151.88042127, 137.38373306],\n",
              "       [151.88042127, 137.38373306, 126.77546651, 150.34867307],\n",
              "       [126.77546651, 150.34867307, 114.63307697, 167.32120895],\n",
              "       [114.63307697, 167.32120895, 133.92328169, 175.91623206],\n",
              "       [133.92328169, 175.91623206, 166.16998703, 177.80849935],\n",
              "       [166.16998703, 177.80849935, 188.39568384, 176.73508307],\n",
              "       [188.39568384, 176.73508307, 173.        , 155.        ],\n",
              "       [159.        ,  64.        , 140.61535563,  59.63684408],\n",
              "       [140.61535563,  59.63684408, 156.59087827,  85.98056737],\n",
              "       [156.59087827,  85.98056737, 159.        ,  64.        ]])"
            ]
          },
          "metadata": {},
          "execution_count": 8
        }
      ],
      "source": [
        "points = point_encoder(file = file, num = NUM_CURVES)\n",
        "points"
      ]
    },
    {
      "cell_type": "code",
      "execution_count": 9,
      "metadata": {
        "colab": {
          "base_uri": "https://localhost:8080/",
          "height": 621
        },
        "id": "-xEmd5exU8Fv",
        "outputId": "bbc9ad6b-0f80-4204-d3cf-1ef88e798e45"
      },
      "outputs": [
        {
          "output_type": "display_data",
          "data": {
            "text/plain": [
              "<IPython.core.display.SVG object>"
            ],
            "image/svg+xml": "<svg xmlns=\"http://www.w3.org/2000/svg\" xmlns:ev=\"http://www.w3.org/2001/xml-events\" xmlns:xlink=\"http://www.w3.org/1999/xlink\" baseProfile=\"full\" height=\"600px\" version=\"1.1\" viewBox=\"58.04161556099385 4.535123620883695 181.9044424776095 233.73238603585395\" width=\"467px\">\n\t<defs/>\n\t<path d=\"M 110.0,211.0 L 82.48940190127404,201.29161049436223 L 73.28140860469273,185.5714471911276 L 82.61479752583648,164.43645362924713 L 107.98908083209116,139.6185382796954 L 125.56211535675892,114.10424918798434 L 129.63810486997414,90.4500876889228 L 118.91995949111076,74.28351261873793 L 110.25490440718937,50.46213949078124 L 120.05587848884558,26.262406609849897 L 142.93458238794628,24.093911961102947 L 168.16445644313896,35.23332146507873 L 178.25460313556397,53.28547097831211 L 176.37559495252606,85.55113931059421 L 178.1697624448727,110.41283169581996 L 189.19013014899735,131.3959514160727 L 207.78955795151222,152.80373771514826 L 224.70626499490447,172.25177286151046 L 204.83760777992794,189.28205047434747 L 181.23070383969332,207.93074697087192 L 159.40791056642433,218.7087213165184 L 140.4434773177086,216.51667242472044 L 110.0,211.0 M 173.0,155.0 L 151.88042126981142,137.38373306209996 L 126.77546650992885,150.3486730672194 L 114.6330769680833,167.32120895366268 L 133.92328169026828,175.91623206241607 L 166.16998703471774,177.8084993517359 L 188.39568383911345,176.7350830669837 L 173.0,155.0 M 159.0,64.0 L 140.61535563336827,59.636844078874155 L 156.5908782685164,85.98056736666379 L 159.0,64.0\" fill=\"none\" stroke=\"#000000\" stroke-width=\"0.19461480935541545\"/>\n</svg>"
          },
          "metadata": {}
        }
      ],
      "source": [
        "path = point_decoder(points)\n",
        "wsvg(paths = path, filename = \"disvg_output.svg\", openinbrowser=False)\n",
        "display(SVG(filename = \"disvg_output.svg\"))"
      ]
    },
    {
      "cell_type": "code",
      "execution_count": 10,
      "metadata": {
        "colab": {
          "base_uri": "https://localhost:8080/"
        },
        "id": "SQq1T6GSrIWk",
        "outputId": "26af0576-74d2-41c3-d0b4-c8802b9ab90e"
      },
      "outputs": [
        {
          "output_type": "execute_result",
          "data": {
            "text/plain": [
              "(60000, 32, 4)"
            ]
          },
          "metadata": {},
          "execution_count": 10
        }
      ],
      "source": [
        "train_points.shape"
      ]
    },
    {
      "cell_type": "code",
      "execution_count": 80,
      "metadata": {
        "id": "g1Q8Tt_hqSKO"
      },
      "outputs": [],
      "source": [
        "#train_images.shape"
      ]
    },
    {
      "cell_type": "code",
      "execution_count": 11,
      "metadata": {
        "id": "NFC2ghIdiZYE"
      },
      "outputs": [],
      "source": [
        "a = 140\n",
        "b = 140\n",
        "train_images = train_points.reshape(train_points.shape[0], NUM_CURVES, 4, 1).astype('float32')\n",
        "train_images = (train_images - a) / b # Normalize the images to [-1, 1]"
      ]
    },
    {
      "cell_type": "code",
      "execution_count": 12,
      "metadata": {
        "id": "S4PIDhoDLbsZ"
      },
      "outputs": [],
      "source": [
        "BUFFER_SIZE = 60000\n",
        "BATCH_SIZE = 256"
      ]
    },
    {
      "cell_type": "code",
      "execution_count": 13,
      "metadata": {
        "colab": {
          "base_uri": "https://localhost:8080/"
        },
        "id": "-yKCCQOoJ7cn",
        "outputId": "4c44e15b-a3a9-4738-e6eb-3f8ffcd76254"
      },
      "outputs": [
        {
          "output_type": "execute_result",
          "data": {
            "text/plain": [
              "<_BatchDataset element_spec=TensorSpec(shape=(None, 32, 4, 1), dtype=tf.float32, name=None)>"
            ]
          },
          "metadata": {},
          "execution_count": 13
        }
      ],
      "source": [
        "# Batch and shuffle the data\n",
        "train_dataset = tf.data.Dataset.from_tensor_slices(train_images).shuffle(BUFFER_SIZE).batch(BATCH_SIZE)\n",
        "train_dataset"
      ]
    },
    {
      "cell_type": "markdown",
      "metadata": {
        "id": "THY-sZMiQ4UV"
      },
      "source": [
        "## Create the models\n",
        "\n",
        "Both the generator and discriminator are defined using the [Keras Sequential API](https://www.tensorflow.org/guide/keras#sequential_model)."
      ]
    },
    {
      "cell_type": "markdown",
      "metadata": {
        "id": "-tEyxE-GMC48"
      },
      "source": [
        "### The Generator\n",
        "\n",
        "The generator uses `tf.keras.layers.Conv2DTranspose` (upsampling) layers to produce an image from a seed (random noise). Start with a `Dense` layer that takes this seed as input, then upsample several times until you reach the desired image size of 28x28x1. Notice the `tf.keras.layers.LeakyReLU` activation for each layer, except the output layer which uses tanh."
      ]
    },
    {
      "cell_type": "code",
      "execution_count": 14,
      "metadata": {
        "id": "6bpTcDqoLWjY"
      },
      "outputs": [],
      "source": [
        "def make_generator_model():\n",
        "    model = tf.keras.Sequential()\n",
        "    model.add(layers.Dense(int(NUM_CURVES/4) * 1 *256, use_bias=False, input_shape=(100,)))\n",
        "    model.add(layers.BatchNormalization())\n",
        "    model.add(layers.LeakyReLU())\n",
        "\n",
        "    model.add(layers.Reshape((int(NUM_CURVES/4) , 1, 256)))\n",
        "    assert model.output_shape == (None, int(NUM_CURVES/4), 1, 256)  # Note: None is the batch size\n",
        "\n",
        "    model.add(layers.Conv2DTranspose(128, (5, 5), strides=(1, 1), padding='same', use_bias=False))\n",
        "    assert model.output_shape == (None, int(NUM_CURVES/4), 1, 128)\n",
        "    model.add(layers.BatchNormalization())\n",
        "    model.add(layers.LeakyReLU())\n",
        "\n",
        "    model.add(layers.Conv2DTranspose(64, (5, 5), strides=(2, 2), padding='same', use_bias=False))\n",
        "    assert model.output_shape == (None, int(NUM_CURVES/2), 2, 64)\n",
        "    model.add(layers.BatchNormalization())\n",
        "    model.add(layers.LeakyReLU())\n",
        "\n",
        "    model.add(layers.Conv2DTranspose(1, (5, 5), strides=(2, 2), padding='same', use_bias=False, activation='tanh'))\n",
        "    assert model.output_shape == (None, NUM_CURVES, 4, 1)\n",
        "\n",
        "    return model"
      ]
    },
    {
      "cell_type": "code",
      "execution_count": 85,
      "metadata": {
        "id": "VO0yOOsLhy5R"
      },
      "outputs": [],
      "source": [
        "# 7*7*256 = 12544       | 8 * 1 * 256\n",
        "# (None, 7, 7, 256)     | (None, 8, 1, 256)\n",
        "# (None, 7, 7, 128)     | (None, 8, 1, 128)\n",
        "# (None, 14, 14, 64)    | (None, 16, 2, 64)\n",
        "# (None, 28, 28, 1)     | (None, 32,  4, 1)\n"
      ]
    },
    {
      "cell_type": "code",
      "execution_count": 15,
      "metadata": {
        "colab": {
          "base_uri": "https://localhost:8080/",
          "height": 656
        },
        "id": "Xza0QrAYc31f",
        "outputId": "9f0bb5cd-1d8a-49b5-d79c-0ae0a599b896"
      },
      "outputs": [
        {
          "output_type": "stream",
          "name": "stdout",
          "text": [
            "Failed to open output SVG in browser.  SVG saved to:\n",
            "disvg_output.svg\n"
          ]
        },
        {
          "output_type": "display_data",
          "data": {
            "text/plain": [
              "<IPython.core.display.SVG object>"
            ],
            "image/svg+xml": "<svg xmlns=\"http://www.w3.org/2000/svg\" xmlns:ev=\"http://www.w3.org/2001/xml-events\" xmlns:xlink=\"http://www.w3.org/1999/xlink\" baseProfile=\"full\" height=\"600px\" version=\"1.1\" viewBox=\"-0.035360932950861755 -0.04836654518265277 0.06695798159576953 0.08482272074557841\" width=\"474px\">\n\t<defs/>\n\t<path d=\"M 0.004549003206193447,-0.0003075335407629609 L 0.0012421978171914816,-0.003456083359196782 M 0.0021884506568312645,-0.018571356311440468 L -0.007541971281170845,-0.010108229704201221 M 0.0009785142028704286,0.005373760592192411 L -0.0239421334117651,0.0072248843498528 M 0.00032597966492176056,-0.00331045500934124 L 0.0011887471191585064,-0.009044934064149857 M -0.001258915406651795,-0.012683833949267864 L -0.0018611440900713205,-0.012888386845588684 M -0.00912507064640522,-0.008154300041496754 L -0.0017685666680335999,-0.01102521363645792 M -0.007739153224974871,-0.006380771286785603 L 0.00974228885024786,-0.010482690297067165 M -0.014859909191727638,-0.012400910258293152 L 0.004061738029122353,-0.005033714696764946 M -0.013800283893942833,0.008252877742052078 L 0.01264907605946064,-0.009623371064662933 M -0.018529174849390984,-0.025145798921585083 L -0.018283797428011894,-0.016909122467041016 M 0.0012620094930753112,-0.009048947133123875 L 0.0037117740139365196,-0.008573527447879314 M -0.003622587537392974,-0.029850630089640617 L 0.017316490411758423,-0.006449045613408089 M 0.009465535171329975,-0.009453420527279377 L 0.012535152956843376,-0.01602097973227501 M -0.0031483422499150038,-0.015769239515066147 L -0.013469642959535122,-0.016839416697621346 M 0.0021054253447800875,0.007771335542201996 L -0.02701316773891449,-0.0005005425191484392 M -0.004250046797096729,-0.01645899936556816 L 0.003998428117483854,-0.02555539645254612 M 0.005681516602635384,-0.01911279559135437 L -0.009362723678350449,-0.011435458436608315 M -0.009659179486334324,-0.009376250207424164 L 0.006160740740597248,-0.04126855731010437 M 0.005897438153624535,0.001396202016621828 L 0.012614699080586433,-0.0055028414353728294 M -0.029751673340797424,-0.019982554018497467 L 0.017637385055422783,-0.0072015440091490746 M 0.0042064981535077095,-0.01761661097407341 L 0.025987789034843445,6.0963910073041916e-05 M 0.0002000913373194635,-0.020992977544665337 L -0.007656257599592209,-0.021333856508135796 M -0.00283025112003088,-0.013826907612383366 L 0.0002395198680460453,0.018575459718704224 M -0.0014086597366258502,-0.009387968108057976 L -0.014082065783441067,-0.012862556613981724 M -0.006328383926302195,-0.006468679755926132 L 0.007505430374294519,0.029358187690377235 M 0.003335180226713419,-0.005766460672020912 L -0.02258812077343464,-0.025161195546388626 M -0.00041309528751298785,-0.010817168280482292 L -2.8552021831274033e-05,0.0009682686650194228 M -0.028556330129504204,-0.006006627809256315 L 0.01414407417178154,-0.0005086025921627879 M 0.0010646492009982467,-0.020600667223334312 L -0.006720256060361862,-0.0033559193834662437 M -0.006213440094143152,-0.004186631180346012 L -0.008439580909907818,-0.009371956810355186 M -0.002280033193528652,0.009219696745276451 L -0.014800341799855232,0.0038544952403753996 M 0.0016067299293354154,-0.00027254701126366854 L 0.011500033549964428,0.0003086584620177746\" fill=\"none\" stroke=\"#000000\" stroke-width=\"7.06267450004816e-05\"/>\n</svg>"
          },
          "metadata": {}
        }
      ],
      "source": [
        "from svgpathtools import disvg\n",
        "from IPython.display import SVG, display\n",
        "noise = tf.random.normal([1, 100])\n",
        "generator = make_generator_model()\n",
        "generated_image = generator(noise, training=False)\n",
        "path = point_decoder(tens = tf.reshape(generated_image,[NUM_CURVES,4]))\n",
        "\n",
        "disvg(path, filename = \"disvg_output.svg\")\n",
        "display(SVG(filename = \"disvg_output.svg\"))"
      ]
    },
    {
      "cell_type": "markdown",
      "metadata": {
        "id": "D0IKnaCtg6WE"
      },
      "source": [
        "### The Discriminator\n",
        "\n",
        "The discriminator is a CNN-based image classifier."
      ]
    },
    {
      "cell_type": "code",
      "execution_count": 16,
      "metadata": {
        "id": "dw2tPLmk2pEP"
      },
      "outputs": [],
      "source": [
        "def make_discriminator_model():\n",
        "    model = tf.keras.Sequential()\n",
        "    model.add(layers.Conv2D(64, (5, 5), strides=(2, 2), padding='same',\n",
        "                                     input_shape=[NUM_CURVES, 4, 1])) # <-\n",
        "    model.add(layers.LeakyReLU())\n",
        "    model.add(layers.Dropout(0.3))\n",
        "\n",
        "    model.add(layers.Conv2D(128, (5, 5), strides=(2, 2), padding='same'))\n",
        "    model.add(layers.LeakyReLU())\n",
        "    model.add(layers.Dropout(0.3))\n",
        "\n",
        "    model.add(layers.Flatten())\n",
        "    model.add(layers.Dense(1))\n",
        "\n",
        "    return model"
      ]
    },
    {
      "cell_type": "markdown",
      "metadata": {
        "id": "QhPneagzCaQv"
      },
      "source": [
        "Use the (as yet untrained) discriminator to classify the generated images as real or fake. The model will be trained to output positive values for real images, and negative values for fake images."
      ]
    },
    {
      "cell_type": "code",
      "execution_count": 17,
      "metadata": {
        "colab": {
          "base_uri": "https://localhost:8080/"
        },
        "id": "gDkA05NE6QMs",
        "outputId": "db42b597-ae6c-4ddc-b01b-0dd6b0fa95c2"
      },
      "outputs": [
        {
          "output_type": "stream",
          "name": "stdout",
          "text": [
            "tf.Tensor([[0.0001929]], shape=(1, 1), dtype=float32)\n"
          ]
        }
      ],
      "source": [
        "discriminator = make_discriminator_model()\n",
        "decision = discriminator(generated_image)\n",
        "print (decision)"
      ]
    },
    {
      "cell_type": "markdown",
      "metadata": {
        "id": "0FMYgY_mPfTi"
      },
      "source": [
        "## Define the loss and optimizers\n",
        "\n",
        "Define loss functions and optimizers for both models.\n"
      ]
    },
    {
      "cell_type": "code",
      "execution_count": 18,
      "metadata": {
        "id": "psQfmXxYKU3X"
      },
      "outputs": [],
      "source": [
        "# This method returns a helper function to compute cross entropy loss\n",
        "cross_entropy = tf.keras.losses.BinaryCrossentropy(from_logits=True)"
      ]
    },
    {
      "cell_type": "markdown",
      "metadata": {
        "id": "PKY_iPSPNWoj"
      },
      "source": [
        "### Discriminator loss\n",
        "\n",
        "This method quantifies how well the discriminator is able to distinguish real images from fakes. It compares the discriminator's predictions on real images to an array of 1s, and the discriminator's predictions on fake (generated) images to an array of 0s."
      ]
    },
    {
      "cell_type": "code",
      "execution_count": 19,
      "metadata": {
        "id": "wkMNfBWlT-PV"
      },
      "outputs": [],
      "source": [
        "def discriminator_loss(real_output, fake_output):\n",
        "    real_loss = cross_entropy(tf.ones_like(real_output), real_output)\n",
        "    fake_loss = cross_entropy(tf.zeros_like(fake_output), fake_output)\n",
        "    total_loss = real_loss + fake_loss\n",
        "    return total_loss"
      ]
    },
    {
      "cell_type": "markdown",
      "metadata": {
        "id": "Jd-3GCUEiKtv"
      },
      "source": [
        "### Generator loss\n",
        "The generator's loss quantifies how well it was able to trick the discriminator. Intuitively, if the generator is performing well, the discriminator will classify the fake images as real (or 1). Here, compare the discriminators decisions on the generated images to an array of 1s."
      ]
    },
    {
      "cell_type": "code",
      "execution_count": 20,
      "metadata": {
        "id": "90BIcCKcDMxz"
      },
      "outputs": [],
      "source": [
        "def generator_loss(fake_output):\n",
        "    return cross_entropy(tf.ones_like(fake_output), fake_output)"
      ]
    },
    {
      "cell_type": "markdown",
      "metadata": {
        "id": "MgIc7i0th_Iu"
      },
      "source": [
        "The discriminator and the generator optimizers are different since you will train two networks separately."
      ]
    },
    {
      "cell_type": "code",
      "execution_count": 21,
      "metadata": {
        "id": "iWCn_PVdEJZ7"
      },
      "outputs": [],
      "source": [
        "generator_optimizer = tf.keras.optimizers.Adam(1e-4) #4\n",
        "discriminator_optimizer = tf.keras.optimizers.Adam(1e-4) #4"
      ]
    },
    {
      "cell_type": "markdown",
      "metadata": {
        "id": "mWtinsGDPJlV"
      },
      "source": [
        "### Save checkpoints\n",
        "This notebook also demonstrates how to save and restore models, which can be helpful in case a long running training task is interrupted."
      ]
    },
    {
      "cell_type": "code",
      "execution_count": 22,
      "metadata": {
        "id": "CA1w-7s2POEy"
      },
      "outputs": [],
      "source": [
        "checkpoint_dir = './training_checkpoints'\n",
        "checkpoint_prefix = os.path.join(checkpoint_dir, \"ckpt\")\n",
        "checkpoint = tf.train.Checkpoint(generator_optimizer=generator_optimizer,\n",
        "                                 discriminator_optimizer=discriminator_optimizer,\n",
        "                                 generator=generator,\n",
        "                                 discriminator=discriminator)"
      ]
    },
    {
      "cell_type": "markdown",
      "metadata": {
        "id": "Rw1fkAczTQYh"
      },
      "source": [
        "## Define the training loop\n"
      ]
    },
    {
      "cell_type": "code",
      "execution_count": 23,
      "metadata": {
        "id": "NS2GWywBbAWo"
      },
      "outputs": [],
      "source": [
        "EPOCHS = 50\n",
        "noise_dim = 100\n",
        "num_examples_to_generate = 1 # było 16\n",
        "\n",
        "# You will reuse this seed overtime (so it's easier)\n",
        "# to visualize progress in the animated GIF)\n",
        "seed = tf.random.normal([num_examples_to_generate, noise_dim])"
      ]
    },
    {
      "cell_type": "markdown",
      "metadata": {
        "id": "jylSonrqSWfi"
      },
      "source": [
        "The training loop begins with generator receiving a random seed as input. That seed is used to produce an image. The discriminator is then used to classify real images (drawn from the training set) and fakes images (produced by the generator). The loss is calculated for each of these models, and the gradients are used to update the generator and discriminator."
      ]
    },
    {
      "cell_type": "code",
      "execution_count": 25,
      "metadata": {
        "id": "3t5ibNo05jCB"
      },
      "outputs": [],
      "source": [
        "# Notice the use of `tf.function`\n",
        "# This annotation causes the function to be \"compiled\".\n",
        "@tf.function\n",
        "def train_step(images):\n",
        "    noise = tf.random.normal([BATCH_SIZE, noise_dim])\n",
        "\n",
        "    with tf.GradientTape() as gen_tape, tf.GradientTape() as disc_tape:\n",
        "      generated_images = generator(noise, training=True)\n",
        "\n",
        "      real_output = discriminator(images, training=True)\n",
        "      fake_output = discriminator(generated_images, training=True)\n",
        "\n",
        "      gen_loss = generator_loss(fake_output)\n",
        "      disc_loss = discriminator_loss(real_output, fake_output)\n",
        "\n",
        "    gradients_of_generator = gen_tape.gradient(gen_loss, generator.trainable_variables)\n",
        "    gradients_of_discriminator = disc_tape.gradient(disc_loss, discriminator.trainable_variables)\n",
        "\n",
        "    generator_optimizer.apply_gradients(zip(gradients_of_generator, generator.trainable_variables))\n",
        "    discriminator_optimizer.apply_gradients(zip(gradients_of_discriminator, discriminator.trainable_variables))"
      ]
    },
    {
      "cell_type": "code",
      "execution_count": 26,
      "metadata": {
        "id": "2M7LmLtGEMQJ"
      },
      "outputs": [],
      "source": [
        "def train(dataset, epochs):\n",
        "  for epoch in range(epochs):\n",
        "    start = time.time()\n",
        "\n",
        "    for image_batch in dataset:\n",
        "      train_step(image_batch)\n",
        "\n",
        "    # Produce SVG images for the animated SVG as you go\n",
        "    #display.clear_output(wait=True)\n",
        "    generate_and_save_images(generator,\n",
        "                             epoch + 1,\n",
        "                             seed)\n",
        "\n",
        "    # Save the model every 15 epochs\n",
        "    if (epoch + 1) % 15 == 0:\n",
        "      checkpoint.save(file_prefix = checkpoint_prefix)\n",
        "\n",
        "    print ('Time for epoch {} is {} sec'.format(epoch + 1, time.time()-start))\n",
        "\n",
        "  # Generate after the final epoch\n",
        "  #display.clear_output(wait=True)\n",
        "  generate_and_save_images(generator,\n",
        "                           epochs,\n",
        "                           seed)"
      ]
    },
    {
      "cell_type": "markdown",
      "metadata": {
        "id": "2aFF7Hk3XdeW"
      },
      "source": [
        "**Generate and save images**\n"
      ]
    },
    {
      "cell_type": "code",
      "execution_count": 27,
      "metadata": {
        "id": "RmdVsmvhPxyy"
      },
      "outputs": [],
      "source": [
        "def generate_and_save_images(model, epoch, test_input):\n",
        "  # Notice `training` is set to False.\n",
        "  # This is so all layers run in inference mode (batchnorm).\n",
        "  predictions = model(test_input, training=False)\n",
        "\n",
        "  #fig = plt.figure(figsize=(4, 4))\n",
        "\n",
        "  for i in range(predictions.shape[0]):\n",
        "      #plt.subplot(4, 4, i+1)\n",
        "      path = point_decoder(tens = tf.reshape(predictions[i, :, :, 0],[NUM_CURVES,4]) * b + a)\n",
        "      disvg(path, filename = \"disvg_output.svg\")\n",
        "\n",
        "  disvg(path, filename = 'image_at_epoch_{:04d}.svg'.format(epoch))"
      ]
    },
    {
      "cell_type": "markdown",
      "metadata": {
        "id": "dZrd4CdjR-Fp"
      },
      "source": [
        "## Train the model\n",
        "Call the `train()` method defined above to train the generator and discriminator simultaneously. Note, training GANs can be tricky. It's important that the generator and discriminator do not overpower each other (e.g., that they train at a similar rate).\n",
        "\n",
        "At the beginning of the training, the generated images look like random noise. As training progresses, the generated digits will look increasingly real. After about 50 epochs, they resemble MNIST digits. This may take about one minute / epoch with the default settings on Colab."
      ]
    },
    {
      "cell_type": "code",
      "execution_count": null,
      "metadata": {
        "colab": {
          "base_uri": "https://localhost:8080/"
        },
        "id": "Ly3UN0SLLY2l",
        "outputId": "fccee5f9-2628-4fd4-89d2-63ef007e5415"
      },
      "outputs": [
        {
          "output_type": "stream",
          "name": "stdout",
          "text": [
            "Failed to open output SVG in browser.  SVG saved to:\n",
            "disvg_output.svg\n",
            "Failed to open output SVG in browser.  SVG saved to:\n",
            "image_at_epoch_0001.svg\n",
            "Time for epoch 1 is 182.65867614746094 sec\n",
            "Failed to open output SVG in browser.  SVG saved to:\n",
            "disvg_output.svg\n",
            "Failed to open output SVG in browser.  SVG saved to:\n",
            "image_at_epoch_0002.svg\n",
            "Time for epoch 2 is 180.0632963180542 sec\n",
            "Failed to open output SVG in browser.  SVG saved to:\n",
            "disvg_output.svg\n",
            "Failed to open output SVG in browser.  SVG saved to:\n",
            "image_at_epoch_0003.svg\n",
            "Time for epoch 3 is 179.67467045783997 sec\n",
            "Failed to open output SVG in browser.  SVG saved to:\n",
            "disvg_output.svg\n",
            "Failed to open output SVG in browser.  SVG saved to:\n",
            "image_at_epoch_0004.svg\n",
            "Time for epoch 4 is 180.06836128234863 sec\n"
          ]
        }
      ],
      "source": [
        "train(train_dataset, EPOCHS)"
      ]
    },
    {
      "cell_type": "markdown",
      "metadata": {
        "id": "rfM4YcPVPkNO"
      },
      "source": [
        "Restore the latest checkpoint."
      ]
    },
    {
      "cell_type": "code",
      "execution_count": null,
      "metadata": {
        "id": "XhXsd0srPo8c"
      },
      "outputs": [],
      "source": [
        "checkpoint.restore(tf.train.latest_checkpoint(checkpoint_dir))"
      ]
    },
    {
      "cell_type": "markdown",
      "metadata": {
        "id": "P4M_vIbUi7c0"
      },
      "source": [
        "## Create an animated SVG\n"
      ]
    },
    {
      "cell_type": "code",
      "execution_count": null,
      "metadata": {
        "id": "WfO5wCdclHGL"
      },
      "outputs": [],
      "source": [
        "# Display a single image using the epoch number\n",
        "def display_image(epoch_no):\n",
        "  return display(SVG(filename = 'image_at_epoch_{:04d}.svg'.format(epoch_no)))"
      ]
    },
    {
      "cell_type": "code",
      "execution_count": null,
      "metadata": {
        "id": "5x3q9_Oe5q0A"
      },
      "outputs": [],
      "source": [
        "display_image(EPOCHS)"
      ]
    },
    {
      "cell_type": "markdown",
      "metadata": {
        "id": "NywiH3nL8guF"
      },
      "source": [
        "Use `xml` to create an animated svg using the images saved during training."
      ]
    },
    {
      "cell_type": "code",
      "execution_count": null,
      "metadata": {
        "id": "DbI8Inzevuzw"
      },
      "outputs": [],
      "source": [
        "import os\n",
        "import xml.etree.ElementTree as ET\n",
        "#EPOCHS = 7\n",
        "ET.register_namespace('', \"http://www.w3.org/2000/svg\")\n",
        "# first file\n",
        "files = ['image_at_epoch_{:04d}.svg'.format(epoch_no) for epoch_no in range(1, EPOCHS+1)]\n",
        "\n",
        "master_tree = ET.parse(files[0])\n",
        "master_root = master_tree.getroot()\n",
        "master_root.remove(master_root[1])\n",
        "master_root[0].text = '\\nCreated by JG Pardyak\\n'\n",
        "#print(ET.tostring(master_root, 'utf-8'))\n",
        "master_root = master_tree.getroot()\n",
        "master_root.attrib['width'] = '600px'\n",
        "master_root.attrib['height'] = '600px'\n",
        "master_root.attrib['viewBox'] = '0 0 600 600'\n",
        "\n",
        "i = 0\n",
        "for file in files:\n",
        "  tree = ET.parse(file)\n",
        "  root = tree.getroot()\n",
        "  child = ET.Element('{http://www.w3.org/2000/svg}g')\n",
        "  root.append(child)\n",
        "  root[2].append(root[1])\n",
        "  root.remove(root[1])\n",
        "  root[1].set('opacity', '0')\n",
        "  ET.SubElement(root[1], '{http://www.w3.org/2000/svg}animate')\n",
        "  root[1][1].set('attributeName', 'opacity')\n",
        "  root[1][1].set('from', '0')\n",
        "  root[1][1].set('to', '1')\n",
        "  root[1][1].set('begin', str(4 * i) +'s')\n",
        "  root[1][1].set('dur', '2s')\n",
        "  root[1][1].set('fill', 'freeze')\n",
        "  ET.SubElement(root[1], '{http://www.w3.org/2000/svg}animate')\n",
        "  root[1][2].set('attributeName', 'opacity')\n",
        "  root[1][2].set('from', '1')\n",
        "  root[1][2].set('to', '0')\n",
        "  root[1][2].set('begin', str(4 * i + 2) +'s')\n",
        "  root[1][2].set('dur', '2s')\n",
        "  root[1][2].set('fill', 'freeze')\n",
        "  master_root.append(root[1])\n",
        "  i = i + 1\n",
        "\n",
        "\n",
        "master_tree.write('output.svg')"
      ]
    },
    {
      "cell_type": "code",
      "execution_count": null,
      "metadata": {
        "id": "ZBwyU6t2Wf3g"
      },
      "outputs": [],
      "source": [
        "display(SVG(filename = 'output.svg'))"
      ]
    },
    {
      "cell_type": "code",
      "execution_count": null,
      "metadata": {
        "id": "gJcTRyKLFx-o"
      },
      "outputs": [],
      "source": [
        "import os\n",
        "import xml.etree.ElementTree as ET\n",
        "#EPOCHS = 7\n",
        "files = ['image_at_epoch_{:04d}.svg'.format(epoch_no) for epoch_no in range(1, EPOCHS+1)]\n",
        "nfiles = len(files)\n",
        "ncol = 3\n",
        "nrow = 3\n",
        "\n",
        "new_width = ncol * 300\n",
        "new_height = nrow * 300\n",
        "\n",
        "master_tree = ET.parse(files[0])\n",
        "master_root = master_tree.getroot()\n",
        "master_root.remove(master_root[1])\n",
        "\n",
        "master_root.set('width', f'{new_width}px')\n",
        "master_root.set('height', f'{new_height}px')\n",
        "master_root.set('viewBox', f'0 0 {new_width} {new_height}')\n",
        "master_root.get('width')\n",
        "\n",
        "count = -1\n",
        "for row in range(nrow):\n",
        "  for col in range(ncol):\n",
        "    count = count + 1\n",
        "    if count == nfiles:\n",
        "      break\n",
        "    pos = [col * 300, (row + 1) * 300]\n",
        "    print(row, col, count, pos)\n",
        "    tree = ET.parse(files[count])\n",
        "    root = tree.getroot()\n",
        "    root[1].set('transform', f'translate({pos[0]},{pos[1]}) scale(1,-1)')\n",
        "    root[1].get('transform')\n",
        "    master_root.append(root[1])\n",
        "\n",
        "master_tree.write('grid.svg')\n"
      ]
    },
    {
      "cell_type": "code",
      "execution_count": null,
      "metadata": {
        "id": "mIZPELlD104l"
      },
      "outputs": [],
      "source": [
        "display(SVG(filename = 'grid.svg'))"
      ]
    },
    {
      "cell_type": "code",
      "execution_count": null,
      "metadata": {
        "id": "j_dJfXI1GS5X"
      },
      "outputs": [],
      "source": [
        "#disvg(paths, filename = \"disvg_output.svg\")\n",
        "#display(SVG(filename = \"disvg_output.svg\"))"
      ]
    },
    {
      "cell_type": "markdown",
      "metadata": {
        "id": "k6qC-SbjK0yW"
      },
      "source": [
        "## Next steps\n"
      ]
    },
    {
      "cell_type": "markdown",
      "metadata": {
        "id": "xjjkT9KAK6H7"
      },
      "source": [
        "This tutorial has shown the complete code necessary to write and train a GAN. As a next step, you might like to experiment with a different dataset, for example the Large-scale Celeb Faces Attributes (CelebA) dataset [available on Kaggle](https://www.kaggle.com/jessicali9530/celeba-dataset). To learn more about GANs see the [NIPS 2016 Tutorial: Generative Adversarial Networks](https://arxiv.org/abs/1701.00160).\n"
      ]
    }
  ],
  "metadata": {
    "accelerator": "GPU",
    "colab": {
      "provenance": [],
      "gpuType": "T4",
      "include_colab_link": true
    },
    "kernelspec": {
      "display_name": "Python 3",
      "name": "python3"
    }
  },
  "nbformat": 4,
  "nbformat_minor": 0
}